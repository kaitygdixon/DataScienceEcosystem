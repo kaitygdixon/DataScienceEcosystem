{
 "cells": [
  {
   "cell_type": "markdown",
   "id": "68360330-e3a3-4b19-8ae5-e562fff1c171",
   "metadata": {},
   "source": [
    "# Data Science Tools and Ecosystem"
   ]
  },
  {
   "cell_type": "markdown",
   "id": "0ffc3b0e-794c-419f-b265-d2dbd67767fe",
   "metadata": {},
   "source": [
    "### In this notebook, Data Science Tools and Ecosystems are summarized."
   ]
  },
  {
   "cell_type": "markdown",
   "id": "98f7adc4-87ba-42e7-b1a7-31e72baa34ad",
   "metadata": {},
   "source": [
    "#### **Objectives**\n",
    "- List popular languages for Data Science\n",
    "- List common libraries for Data Science\n",
    "- List tools used in Data Science\n",
    "- Show examples of solving arithmetic expressions"
   ]
  },
  {
   "cell_type": "markdown",
   "id": "10b76d33-63ca-4232-a03e-d9591826cbde",
   "metadata": {},
   "source": [
    "#### Some of the popular languages that Data Scientists use are:\n",
    "1. Python\n",
    "2. R\n",
    "3. SQL"
   ]
  },
  {
   "cell_type": "markdown",
   "id": "e94802f0-f59b-4239-8321-b280df0074f0",
   "metadata": {},
   "source": [
    "#### Some of the commonly used libraries by Data Scienctists include:\n",
    "\n",
    "1. Numpy\n",
    "2. Pandas\n",
    "3. Matplotlib\n",
    "4. Seaborn\n",
    "5. TensorFlow\n",
    "6. Plotly"
   ]
  },
  {
   "cell_type": "markdown",
   "id": "3c610f39-2449-4acc-92e7-c11a78179a98",
   "metadata": {},
   "source": [
    "|Data Science Tools|\n",
    "------------------\n",
    "|Jupyter Notebook|\n",
    "|RStudio|\n",
    "|Visual Studio Code|"
   ]
  },
  {
   "cell_type": "markdown",
   "id": "07e51e35-36a6-4d4b-85c1-2bb2f4dc5138",
   "metadata": {},
   "source": [
    "### Below are a few examples of evaluating arithmetic expressions in Python"
   ]
  },
  {
   "cell_type": "code",
   "execution_count": 10,
   "id": "8e141f99-98f8-4ede-ac64-9275cb573b62",
   "metadata": {},
   "outputs": [
    {
     "data": {
      "text/plain": [
       "17"
      ]
     },
     "execution_count": 10,
     "metadata": {},
     "output_type": "execute_result"
    }
   ],
   "source": [
    "(3*4)+5 ## This is a simple expression to multiply then add integers"
   ]
  },
  {
   "cell_type": "code",
   "execution_count": 14,
   "id": "c515a7c9-e106-407f-a05a-84fee3b867d0",
   "metadata": {},
   "outputs": [
    {
     "data": {
      "text/plain": [
       "3.3333333333333335"
      ]
     },
     "execution_count": 14,
     "metadata": {},
     "output_type": "execute_result"
    }
   ],
   "source": [
    "200/60 ##This will convert 200 minutes to hours by dividing by 60"
   ]
  },
  {
   "cell_type": "markdown",
   "id": "e48eafd8-63de-4ec1-b723-c980228ff050",
   "metadata": {},
   "source": [
    "## Author\n",
    "##### Kaity G "
   ]
  },
  {
   "cell_type": "code",
   "execution_count": null,
   "id": "73a01a61-11be-445e-a705-0a3a6f883d77",
   "metadata": {},
   "outputs": [],
   "source": []
  }
 ],
 "metadata": {
  "kernelspec": {
   "display_name": "Python 3 (ipykernel)",
   "language": "python",
   "name": "python3"
  },
  "language_info": {
   "codemirror_mode": {
    "name": "ipython",
    "version": 3
   },
   "file_extension": ".py",
   "mimetype": "text/x-python",
   "name": "python",
   "nbconvert_exporter": "python",
   "pygments_lexer": "ipython3",
   "version": "3.12.4"
  }
 },
 "nbformat": 4,
 "nbformat_minor": 5
}
